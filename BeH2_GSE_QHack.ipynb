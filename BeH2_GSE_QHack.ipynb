{
 "cells": [
  {
   "cell_type": "code",
   "execution_count": 13,
   "id": "273c366e-83f8-49cc-85a5-0460e8357ba7",
   "metadata": {
    "tags": []
   },
   "outputs": [],
   "source": [
    "import pennylane as qml\n",
    "from pennylane import numpy as np\n",
    "from pennylane import qchem"
   ]
  },
  {
   "cell_type": "code",
   "execution_count": 5,
   "id": "7307d652-1572-438a-a536-e5193fffc45d",
   "metadata": {},
   "outputs": [],
   "source": [
    "# pip install qiskit-ibm-provider"
   ]
  },
  {
   "cell_type": "code",
   "execution_count": 51,
   "id": "d3cd35a1-3c20-4d73-b23e-88ef3b55daa8",
   "metadata": {},
   "outputs": [],
   "source": [
    "# pip install pennylane-qulacs[\"cpu\"]"
   ]
  },
  {
   "cell_type": "code",
   "execution_count": 52,
   "id": "f6917be2-72ce-4a8d-8908-3b32b8b97d87",
   "metadata": {
    "tags": []
   },
   "outputs": [],
   "source": [
    "from qiskit_ibm_provider import IBMProvider\n",
    "# IBMProvider.save_account('')\n",
    "# from qiskit_ibm_runtime import QiskitRuntimeService\n",
    "\n",
    "# # Save your credentials on disk.\n",
    "\n",
    "# service = QiskitRuntimeService(\n",
    "#     channel='ibm_quantum',\n",
    "#     instance='ibm-q/open/main',\n",
    "# )"
   ]
  },
  {
   "cell_type": "code",
   "execution_count": 3,
   "id": "a2a32666-bc19-4b07-b354-e28ce59a614f",
   "metadata": {},
   "outputs": [],
   "source": [
    "# symbols, coordinates = qchem.mol_data(\"BeH2\")\n",
    "# H, qubits = qchem.molecular_hamiltonian(symbols, coordinates)"
   ]
  },
  {
   "cell_type": "code",
   "execution_count": 4,
   "id": "32931f42-a8ec-4014-b20e-011b7b54bd12",
   "metadata": {},
   "outputs": [],
   "source": [
    "# H_grouped, qubits_grouped = qchem.molecular_hamiltonian(symbols, coordinates,grouping_type=\"qwc\")\n",
    "# groups = qml.pauli.group_observables(H.ops, grouping_type='qwc', method='rlf')"
   ]
  },
  {
   "cell_type": "code",
   "execution_count": 29,
   "id": "1a7d0dfb-506d-447a-98c9-49bd556e70db",
   "metadata": {},
   "outputs": [],
   "source": [
    "# print(\"Number of terms in ungrouped Hamiltonian: \",len(H.ops) )\n",
    "# # print(\"Number of terms in grouped Hamiltonian: \",len(H_grouped.ops) )\n",
    "# print(\"Number of terms in grouped Hamiltonian: \",len(groups) )"
   ]
  },
  {
   "cell_type": "code",
   "execution_count": 30,
   "id": "8b726fbc-71d2-41ec-960b-c3a2d5e22477",
   "metadata": {
    "tags": []
   },
   "outputs": [],
   "source": [
    "# print(symbols)\n",
    "# print(coordinates)\n",
    "# print(\"Number of qubits: \", qubits)\n",
    "# # print(\"Number of qubits grouped: \", qubits_grouped)\n",
    "# # print(\"Qubit Hamiltonian\")\n",
    "# # print(H)"
   ]
  },
  {
   "cell_type": "markdown",
   "id": "fc7b3b3f-7928-49a8-835a-c3894a7c9919",
   "metadata": {},
   "source": [
    "### Hamiltonian without grouping and active space transformation"
   ]
  },
  {
   "cell_type": "code",
   "execution_count": 15,
   "id": "e2c01bce-642f-4e64-b4f2-043b6caa94ed",
   "metadata": {},
   "outputs": [
    {
     "name": "stdout",
     "output_type": "stream",
     "text": [
      "Number of qubits: 14\n",
      "Qubit Hamiltonian\n",
      "<Hamiltonian: terms=666, wires=[0, 1, 2, 3, 4, 5, 6, 7, 8, 9, 10, 11, 12, 13]>\n"
     ]
    }
   ],
   "source": [
    "symbols1 = [\"H\", \"Be\", \"H\"]\n",
    "coordinates1 = np.array([0.0, 0.0, 2.506532731623098, 0.0, 0.0, 0.0, 0.0, 0.0, -2.506532731623098])\n",
    "\n",
    "H, qubits = qchem.molecular_hamiltonian(symbols1, coordinates1)\n",
    "print(\"Number of qubits: {:}\".format(qubits))\n",
    "print(\"Qubit Hamiltonian\")\n",
    "H"
   ]
  },
  {
   "cell_type": "markdown",
   "id": "2a6ed311-1766-4f08-810f-f09b92046b13",
   "metadata": {},
   "source": [
    "### Hamiltonian with grouping and active space transformation"
   ]
  },
  {
   "cell_type": "code",
   "execution_count": 16,
   "id": "7130bb21-a6d2-4979-b397-fa8889ebb857",
   "metadata": {},
   "outputs": [
    {
     "name": "stdout",
     "output_type": "stream",
     "text": [
      "Number of qubits: 12\n",
      "Qubit Hamiltonian\n",
      "<Hamiltonian: terms=327, wires=[0, 1, 2, 3, 4, 5, 6, 7, 8, 9, 10, 11]>\n"
     ]
    }
   ],
   "source": [
    "symbols1 = [\"H\", \"Be\", \"H\"]\n",
    "coordinates1 = np.array([0.0, 0.0, 2.506532731623098, 0.0, 0.0, 0.0, 0.0, 0.0, -2.506532731623098])\n",
    "\n",
    "H1, qubits1 = qchem.molecular_hamiltonian(symbols1, coordinates1, grouping_type=\"qwc\",grouping_method='rlf', active_electrons=4)\n",
    "print(\"Number of qubits: {:}\".format(qubits1))\n",
    "print(\"Qubit Hamiltonian\")\n",
    "H1"
   ]
  },
  {
   "cell_type": "markdown",
   "id": "122b5ebe-1c4f-4006-bfd5-c3d48f0d1c4b",
   "metadata": {},
   "source": [
    "As can be seen, by using grouping and active space transformation, number of terms and qubits are reduced. \n",
    "We will further reduce the the qubits required by tapering the Hamiltonian."
   ]
  },
  {
   "cell_type": "code",
   "execution_count": 17,
   "id": "303631e8-8374-428f-b3a2-053f42b76eb7",
   "metadata": {},
   "outputs": [],
   "source": [
    "generators = qml.symmetry_generators(H1)\n",
    "paulixops = qml.paulix_ops(generators, qubits1)\n",
    "\n",
    "# for idx, generator in enumerate(generators):\n",
    "    # print(f\"generator {idx+1}: {generator}, paulix_op: {paulixops[idx]}\")"
   ]
  },
  {
   "cell_type": "code",
   "execution_count": 18,
   "id": "2e513951-5d5a-41a0-b5cc-1b17393ccf32",
   "metadata": {},
   "outputs": [
    {
     "name": "stdout",
     "output_type": "stream",
     "text": [
      "[1, 1, 1, 1, 1]\n"
     ]
    }
   ],
   "source": [
    "n_electrons = 4\n",
    "paulix_sector = qml.qchem.optimal_sector(H1, generators, n_electrons)\n",
    "print(paulix_sector)"
   ]
  },
  {
   "cell_type": "code",
   "execution_count": 19,
   "id": "61b572dc-3ebc-495f-86cf-43f6c3a995ca",
   "metadata": {},
   "outputs": [
    {
     "name": "stdout",
     "output_type": "stream",
     "text": [
      "<Hamiltonian: terms=268, wires=[0, 1, 2, 3, 4, 6, 8]>\n"
     ]
    }
   ],
   "source": [
    "H_tapered = qml.taper(H1, generators, paulixops, paulix_sector)\n",
    "# print(H_tapered)\n",
    "H_tapered"
   ]
  },
  {
   "cell_type": "code",
   "execution_count": 20,
   "id": "e26da88b-f005-436d-a7c5-5f3541ff164b",
   "metadata": {
    "tags": []
   },
   "outputs": [
    {
     "data": {
      "text/plain": [
       "7"
      ]
     },
     "execution_count": 20,
     "metadata": {},
     "output_type": "execute_result"
    }
   ],
   "source": [
    "qubits1 = len(H_tapered.wires)\n",
    "qubits1"
   ]
  },
  {
   "cell_type": "code",
   "execution_count": 21,
   "id": "616b072a-1d18-4726-aa94-f98dc69bc07e",
   "metadata": {},
   "outputs": [
    {
     "name": "stdout",
     "output_type": "stream",
     "text": [
      "[1 1 1 1 0 0 0]\n"
     ]
    }
   ],
   "source": [
    "state_tapered = qml.qchem.taper_hf(generators, paulixops, paulix_sector,\n",
    "                                   num_electrons=n_electrons, num_wires=qubits1)\n",
    "print(state_tapered)"
   ]
  },
  {
   "cell_type": "code",
   "execution_count": 63,
   "id": "1cf8bb08-b481-4c76-bb29-21618ecde7eb",
   "metadata": {},
   "outputs": [],
   "source": [
    "# dev = qml.device('qiskit.ibmq', wires=H_tapered.wires, backend=\"ibmq_qasm_simulator\", ibmqx_token='83de70e880e6eef552d7924f727414b211092bd4814bb48f57fdf2588fe1cd79c92f2511c2a31c5eb7be586397c88a65aeed06be429493893e0e2b36abf2de77')\n",
    "dev = qml.device(\"default.qubit\", wires=H_tapered.wires)\n",
    "# dev = qml.device(\"qulacs.simulator\", wires=H_tapered.wires)"
   ]
  },
  {
   "cell_type": "code",
   "execution_count": 64,
   "id": "15e98e43-15da-4699-a62d-2581020870a3",
   "metadata": {},
   "outputs": [],
   "source": [
    "singles, doubles = qml.qchem.excitations(n_electrons, len(H1.wires))\n",
    "tapered_doubles = [\n",
    "    qml.taper_operation(qml.DoubleExcitation, generators, paulixops, paulix_sector,\n",
    "                        wire_order=H1.wires, op_wires=double) for double in doubles\n",
    "]\n",
    "tapered_singles = [\n",
    "    qml.taper_operation(qml.SingleExcitation, generators, paulixops, paulix_sector,\n",
    "                        wire_order=H1.wires, op_wires=single) for single in singles\n",
    "]\n",
    "\n",
    "# dev = qml.device(\"default.qubit\", wires=H_tapered.wires)\n",
    "@qml.qnode(dev)\n",
    "def tapered_circuit(params):\n",
    "    qml.BasisState(state_tapered, wires=H_tapered.wires)\n",
    "    for idx, tapered_op in enumerate(tapered_doubles + tapered_singles):\n",
    "        tapered_op(params[idx])\n",
    "    return qml.expval(H_tapered)"
   ]
  },
  {
   "cell_type": "code",
   "execution_count": 65,
   "id": "cb7dc300-b121-4e97-a0f5-e96929b0441c",
   "metadata": {},
   "outputs": [
    {
     "name": "stdout",
     "output_type": "stream",
     "text": [
      "Iteration = 20,  Energy = -15.59446317 Ha,  Convergence parameter = 0.00000154 Ha\n",
      "\n",
      "Final value of the energy = -15.59446516 Ha\n",
      "Number of iterations =  22\n"
     ]
    }
   ],
   "source": [
    "optimizer = qml.GradientDescentOptimizer(stepsize=0.5)\n",
    "conv_tol = 1e-06\n",
    "max_iterations = 200\n",
    "params = np.zeros(len(doubles) + len(singles), requires_grad=True)\n",
    "energy=[]\n",
    "for n in range(1, 41):\n",
    "    params, prev_energy = optimizer.step_and_cost(tapered_circuit, params) \n",
    "    # Compute energy\n",
    "    energy = tapered_circuit(params)\n",
    "\n",
    "    # Calculate difference between new and old energies\n",
    "    conv = np.abs(energy - prev_energy)\n",
    "\n",
    "    if n % 2 == 0:\n",
    "        print(\n",
    "            \"Iteration = {:},  Energy = {:.8f} Ha,  Convergence parameter = {\"\n",
    "            \":.8f} Ha\".format(n, energy, conv)\n",
    "        )\n",
    "\n",
    "    if conv <= conv_tol:\n",
    "        break\n",
    "\n",
    "print()\n",
    "print(\"Final value of the energy = {:.8f} Ha\".format(energy))\n",
    "print(\"Number of iterations = \", n)"
   ]
  },
  {
   "cell_type": "code",
   "execution_count": 68,
   "id": "75348a5a-f9eb-4789-9a11-5c9bb56bb99b",
   "metadata": {},
   "outputs": [
    {
     "ename": "LinAlgError",
     "evalue": "Singular matrix",
     "output_type": "error",
     "traceback": [
      "\u001b[0;31m---------------------------------------------------------------------------\u001b[0m",
      "\u001b[0;31mLinAlgError\u001b[0m                               Traceback (most recent call last)",
      "Cell \u001b[0;32mIn[68], line 13\u001b[0m\n\u001b[1;32m      8\u001b[0m qngd_cost_history \u001b[38;5;241m=\u001b[39m []\n\u001b[1;32m     10\u001b[0m \u001b[38;5;28;01mfor\u001b[39;00m n \u001b[38;5;129;01min\u001b[39;00m \u001b[38;5;28mrange\u001b[39m(max_iterations):\n\u001b[1;32m     11\u001b[0m \n\u001b[1;32m     12\u001b[0m     \u001b[38;5;66;03m# Take step\u001b[39;00m\n\u001b[0;32m---> 13\u001b[0m     params, prev_energy \u001b[38;5;241m=\u001b[39m \u001b[43mopt\u001b[49m\u001b[38;5;241;43m.\u001b[39;49m\u001b[43mstep_and_cost\u001b[49m\u001b[43m(\u001b[49m\u001b[43mtapered_circuit\u001b[49m\u001b[43m,\u001b[49m\u001b[43m \u001b[49m\u001b[43mparams\u001b[49m\u001b[43m)\u001b[49m\n\u001b[1;32m     14\u001b[0m     qngd_param_history\u001b[38;5;241m.\u001b[39mappend(params)\n\u001b[1;32m     15\u001b[0m     qngd_cost_history\u001b[38;5;241m.\u001b[39mappend(prev_energy)\n",
      "File \u001b[0;32m/opt/.qbraid/environments/qbraid_000000/pyenv/lib/python3.9/site-packages/pennylane/optimize/qng.py:204\u001b[0m, in \u001b[0;36mQNGOptimizer.step_and_cost\u001b[0;34m(self, qnode, grad_fn, recompute_tensor, metric_tensor_fn, *args, **kwargs)\u001b[0m\n\u001b[1;32m    199\u001b[0m     \u001b[38;5;28mself\u001b[39m\u001b[38;5;241m.\u001b[39mmetric_tensor \u001b[38;5;241m=\u001b[39m \u001b[38;5;28mself\u001b[39m\u001b[38;5;241m.\u001b[39mmetric_tensor \u001b[38;5;241m+\u001b[39m \u001b[38;5;28mself\u001b[39m\u001b[38;5;241m.\u001b[39mlam \u001b[38;5;241m*\u001b[39m qml\u001b[38;5;241m.\u001b[39mmath\u001b[38;5;241m.\u001b[39meye(\n\u001b[1;32m    200\u001b[0m         size, like\u001b[38;5;241m=\u001b[39m_metric_tensor\n\u001b[1;32m    201\u001b[0m     )\n\u001b[1;32m    203\u001b[0m g, forward \u001b[38;5;241m=\u001b[39m \u001b[38;5;28mself\u001b[39m\u001b[38;5;241m.\u001b[39mcompute_grad(qnode, args, kwargs, grad_fn\u001b[38;5;241m=\u001b[39mgrad_fn)\n\u001b[0;32m--> 204\u001b[0m new_args \u001b[38;5;241m=\u001b[39m np\u001b[38;5;241m.\u001b[39marray(\u001b[38;5;28;43mself\u001b[39;49m\u001b[38;5;241;43m.\u001b[39;49m\u001b[43mapply_grad\u001b[49m\u001b[43m(\u001b[49m\u001b[43mg\u001b[49m\u001b[43m,\u001b[49m\u001b[43m \u001b[49m\u001b[43margs\u001b[49m\u001b[43m)\u001b[49m, requires_grad\u001b[38;5;241m=\u001b[39m\u001b[38;5;28;01mTrue\u001b[39;00m)\n\u001b[1;32m    206\u001b[0m \u001b[38;5;28;01mif\u001b[39;00m forward \u001b[38;5;129;01mis\u001b[39;00m \u001b[38;5;28;01mNone\u001b[39;00m:\n\u001b[1;32m    207\u001b[0m     forward \u001b[38;5;241m=\u001b[39m qnode(\u001b[38;5;241m*\u001b[39margs, \u001b[38;5;241m*\u001b[39m\u001b[38;5;241m*\u001b[39mkwargs)\n",
      "File \u001b[0;32m/opt/.qbraid/environments/qbraid_000000/pyenv/lib/python3.9/site-packages/pennylane/optimize/qng.py:278\u001b[0m, in \u001b[0;36mQNGOptimizer.apply_grad\u001b[0;34m(self, grad, args)\u001b[0m\n\u001b[1;32m    276\u001b[0m grad_flat \u001b[38;5;241m=\u001b[39m np\u001b[38;5;241m.\u001b[39marray(\u001b[38;5;28mlist\u001b[39m(_flatten(grad)))\n\u001b[1;32m    277\u001b[0m x_flat \u001b[38;5;241m=\u001b[39m np\u001b[38;5;241m.\u001b[39marray(\u001b[38;5;28mlist\u001b[39m(_flatten(args)))\n\u001b[0;32m--> 278\u001b[0m x_new_flat \u001b[38;5;241m=\u001b[39m x_flat \u001b[38;5;241m-\u001b[39m \u001b[38;5;28mself\u001b[39m\u001b[38;5;241m.\u001b[39mstepsize \u001b[38;5;241m*\u001b[39m \u001b[43mnp\u001b[49m\u001b[38;5;241;43m.\u001b[39;49m\u001b[43mlinalg\u001b[49m\u001b[38;5;241;43m.\u001b[39;49m\u001b[43msolve\u001b[49m\u001b[43m(\u001b[49m\u001b[38;5;28;43mself\u001b[39;49m\u001b[38;5;241;43m.\u001b[39;49m\u001b[43mmetric_tensor\u001b[49m\u001b[43m,\u001b[49m\u001b[43m \u001b[49m\u001b[43mgrad_flat\u001b[49m\u001b[43m)\u001b[49m\n\u001b[1;32m    279\u001b[0m \u001b[38;5;28;01mreturn\u001b[39;00m unflatten(x_new_flat, args)\n",
      "File \u001b[0;32m/opt/.qbraid/environments/qbraid_000000/pyenv/lib/python3.9/site-packages/pennylane/numpy/wrapper.py:117\u001b[0m, in \u001b[0;36mtensor_wrapper.<locals>._wrapped\u001b[0;34m(*args, **kwargs)\u001b[0m\n\u001b[1;32m    114\u001b[0m         tensor_kwargs[\u001b[38;5;124m\"\u001b[39m\u001b[38;5;124mrequires_grad\u001b[39m\u001b[38;5;124m\"\u001b[39m] \u001b[38;5;241m=\u001b[39m _np\u001b[38;5;241m.\u001b[39many([i\u001b[38;5;241m.\u001b[39mrequires_grad \u001b[38;5;28;01mfor\u001b[39;00m i \u001b[38;5;129;01min\u001b[39;00m tensor_args])\n\u001b[1;32m    116\u001b[0m \u001b[38;5;66;03m# evaluate the original object\u001b[39;00m\n\u001b[0;32m--> 117\u001b[0m res \u001b[38;5;241m=\u001b[39m \u001b[43mobj\u001b[49m\u001b[43m(\u001b[49m\u001b[38;5;241;43m*\u001b[39;49m\u001b[43margs\u001b[49m\u001b[43m,\u001b[49m\u001b[43m \u001b[49m\u001b[38;5;241;43m*\u001b[39;49m\u001b[38;5;241;43m*\u001b[39;49m\u001b[43mkwargs\u001b[49m\u001b[43m)\u001b[49m\n\u001b[1;32m    119\u001b[0m \u001b[38;5;28;01mif\u001b[39;00m \u001b[38;5;28misinstance\u001b[39m(res, _np\u001b[38;5;241m.\u001b[39mndarray):\n\u001b[1;32m    120\u001b[0m     \u001b[38;5;66;03m# only if the output of the object is a ndarray,\u001b[39;00m\n\u001b[1;32m    121\u001b[0m     \u001b[38;5;66;03m# then convert to a PennyLane tensor\u001b[39;00m\n\u001b[1;32m    122\u001b[0m     res \u001b[38;5;241m=\u001b[39m tensor(res, \u001b[38;5;241m*\u001b[39m\u001b[38;5;241m*\u001b[39mtensor_kwargs)\n",
      "File \u001b[0;32m/opt/.qbraid/environments/qbraid_000000/pyenv/lib/python3.9/site-packages/autograd/tracer.py:48\u001b[0m, in \u001b[0;36mprimitive.<locals>.f_wrapped\u001b[0;34m(*args, **kwargs)\u001b[0m\n\u001b[1;32m     46\u001b[0m     \u001b[38;5;28;01mreturn\u001b[39;00m new_box(ans, trace, node)\n\u001b[1;32m     47\u001b[0m \u001b[38;5;28;01melse\u001b[39;00m:\n\u001b[0;32m---> 48\u001b[0m     \u001b[38;5;28;01mreturn\u001b[39;00m \u001b[43mf_raw\u001b[49m\u001b[43m(\u001b[49m\u001b[38;5;241;43m*\u001b[39;49m\u001b[43margs\u001b[49m\u001b[43m,\u001b[49m\u001b[43m \u001b[49m\u001b[38;5;241;43m*\u001b[39;49m\u001b[38;5;241;43m*\u001b[39;49m\u001b[43mkwargs\u001b[49m\u001b[43m)\u001b[49m\n",
      "File \u001b[0;32m<__array_function__ internals>:5\u001b[0m, in \u001b[0;36msolve\u001b[0;34m(*args, **kwargs)\u001b[0m\n",
      "File \u001b[0;32m/opt/.qbraid/environments/qbraid_000000/pyenv/lib/python3.9/site-packages/numpy/linalg/linalg.py:393\u001b[0m, in \u001b[0;36msolve\u001b[0;34m(a, b)\u001b[0m\n\u001b[1;32m    391\u001b[0m signature \u001b[38;5;241m=\u001b[39m \u001b[38;5;124m'\u001b[39m\u001b[38;5;124mDD->D\u001b[39m\u001b[38;5;124m'\u001b[39m \u001b[38;5;28;01mif\u001b[39;00m isComplexType(t) \u001b[38;5;28;01melse\u001b[39;00m \u001b[38;5;124m'\u001b[39m\u001b[38;5;124mdd->d\u001b[39m\u001b[38;5;124m'\u001b[39m\n\u001b[1;32m    392\u001b[0m extobj \u001b[38;5;241m=\u001b[39m get_linalg_error_extobj(_raise_linalgerror_singular)\n\u001b[0;32m--> 393\u001b[0m r \u001b[38;5;241m=\u001b[39m \u001b[43mgufunc\u001b[49m\u001b[43m(\u001b[49m\u001b[43ma\u001b[49m\u001b[43m,\u001b[49m\u001b[43m \u001b[49m\u001b[43mb\u001b[49m\u001b[43m,\u001b[49m\u001b[43m \u001b[49m\u001b[43msignature\u001b[49m\u001b[38;5;241;43m=\u001b[39;49m\u001b[43msignature\u001b[49m\u001b[43m,\u001b[49m\u001b[43m \u001b[49m\u001b[43mextobj\u001b[49m\u001b[38;5;241;43m=\u001b[39;49m\u001b[43mextobj\u001b[49m\u001b[43m)\u001b[49m\n\u001b[1;32m    395\u001b[0m \u001b[38;5;28;01mreturn\u001b[39;00m wrap(r\u001b[38;5;241m.\u001b[39mastype(result_t, copy\u001b[38;5;241m=\u001b[39m\u001b[38;5;28;01mFalse\u001b[39;00m))\n",
      "File \u001b[0;32m/opt/.qbraid/environments/qbraid_000000/pyenv/lib/python3.9/site-packages/numpy/linalg/linalg.py:88\u001b[0m, in \u001b[0;36m_raise_linalgerror_singular\u001b[0;34m(err, flag)\u001b[0m\n\u001b[1;32m     87\u001b[0m \u001b[38;5;28;01mdef\u001b[39;00m \u001b[38;5;21m_raise_linalgerror_singular\u001b[39m(err, flag):\n\u001b[0;32m---> 88\u001b[0m     \u001b[38;5;28;01mraise\u001b[39;00m LinAlgError(\u001b[38;5;124m\"\u001b[39m\u001b[38;5;124mSingular matrix\u001b[39m\u001b[38;5;124m\"\u001b[39m)\n",
      "\u001b[0;31mLinAlgError\u001b[0m: Singular matrix"
     ]
    }
   ],
   "source": [
    "opt = qml.QNGOptimizer(stepsize=0.2, approx=\"block-diag\")\n",
    "conv_tol = 1e-06\n",
    "max_iterations = 200\n",
    "np.random.seed(79)\n",
    "params = np.random.rand(len(doubles) + len(singles), requires_grad=True)\n",
    "\n",
    "qngd_param_history = [params]\n",
    "qngd_cost_history = []\n",
    "\n",
    "for n in range(max_iterations):\n",
    "\n",
    "    # Take step\n",
    "    params, prev_energy = opt.step_and_cost(tapered_circuit, params)\n",
    "    qngd_param_history.append(params)\n",
    "    qngd_cost_history.append(prev_energy)\n",
    "\n",
    "    # Compute energy\n",
    "    energy = tapered_circuit(params)\n",
    "\n",
    "    # Calculate difference between new and old energies\n",
    "    conv = np.abs(energy - prev_energy)\n",
    "\n",
    "    if n % 20 == 0:\n",
    "        print(\n",
    "            \"Iteration = {:},  Energy = {:.8f} Ha,  Convergence parameter = {\"\n",
    "            \":.8f} Ha\".format(n, energy, conv)\n",
    "        )\n",
    "\n",
    "    if conv <= conv_tol:\n",
    "        break\n",
    "\n",
    "print()\n",
    "print(\"Final value of the energy = {:.8f} Ha\".format(energy))\n",
    "print(\"Number of iterations = \", n)"
   ]
  }
 ],
 "metadata": {
  "kernelspec": {
   "display_name": "Python 3 [Default]",
   "language": "python",
   "name": "python3"
  },
  "language_info": {
   "codemirror_mode": {
    "name": "ipython",
    "version": 3
   },
   "file_extension": ".py",
   "mimetype": "text/x-python",
   "name": "python",
   "nbconvert_exporter": "python",
   "pygments_lexer": "ipython3",
   "version": "3.9.10"
  },
  "widgets": {
   "application/vnd.jupyter.widget-state+json": {
    "state": {},
    "version_major": 2,
    "version_minor": 0
   }
  }
 },
 "nbformat": 4,
 "nbformat_minor": 5
}
